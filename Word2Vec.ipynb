{
  "nbformat": 4,
  "nbformat_minor": 0,
  "metadata": {
    "colab": {
      "provenance": []
    },
    "kernelspec": {
      "name": "python3",
      "display_name": "Python 3"
    },
    "language_info": {
      "name": "python"
    }
  },
  "cells": [
    {
      "cell_type": "markdown",
      "source": [
        "# **Assignment # 3**"
      ],
      "metadata": {
        "id": "XnkA0FxUgwDz"
      }
    },
    {
      "cell_type": "markdown",
      "source": [
        "#Humayun Malik\n",
        "#21I-2562\n",
        "#Section:D"
      ],
      "metadata": {
        "id": "vpmasQXChB7h"
      }
    },
    {
      "cell_type": "markdown",
      "source": [
        "#**Word2Vec Notebook**"
      ],
      "metadata": {
        "id": "X36PWB8irMd_"
      }
    },
    {
      "cell_type": "code",
      "execution_count": 29,
      "metadata": {
        "id": "NjBVhSSHvOHm"
      },
      "outputs": [],
      "source": [
        "import pandas as pd\n",
        "import re\n",
        "from nltk.tokenize import word_tokenize\n",
        "from nltk.corpus import stopwords\n",
        "from nltk.stem import WordNetLemmatizer\n",
        "from sklearn.utils import resample\n",
        "import numpy as np\n",
        "import random\n",
        "import nltk\n"
      ]
    },
    {
      "cell_type": "markdown",
      "source": [
        "# Load Data"
      ],
      "metadata": {
        "id": "z84apEuriuv7"
      }
    },
    {
      "cell_type": "code",
      "source": [
        "\n",
        "# Load dataset\n",
        "from google.colab import files\n",
        "\n",
        "uploaded = files.upload()  # This opens a file upload dialog\n"
      ],
      "metadata": {
        "colab": {
          "base_uri": "https://localhost:8080/",
          "height": 73
        },
        "id": "SJaB7VODvTRH",
        "outputId": "f0f5a6fe-fa6a-49ce-9520-ade9c3babf67"
      },
      "execution_count": 30,
      "outputs": [
        {
          "output_type": "display_data",
          "data": {
            "text/plain": [
              "<IPython.core.display.HTML object>"
            ],
            "text/html": [
              "\n",
              "     <input type=\"file\" id=\"files-986ea004-9d41-49e8-9690-b02f713de23f\" name=\"files[]\" multiple disabled\n",
              "        style=\"border:none\" />\n",
              "     <output id=\"result-986ea004-9d41-49e8-9690-b02f713de23f\">\n",
              "      Upload widget is only available when the cell has been executed in the\n",
              "      current browser session. Please rerun this cell to enable.\n",
              "      </output>\n",
              "      <script>// Copyright 2017 Google LLC\n",
              "//\n",
              "// Licensed under the Apache License, Version 2.0 (the \"License\");\n",
              "// you may not use this file except in compliance with the License.\n",
              "// You may obtain a copy of the License at\n",
              "//\n",
              "//      http://www.apache.org/licenses/LICENSE-2.0\n",
              "//\n",
              "// Unless required by applicable law or agreed to in writing, software\n",
              "// distributed under the License is distributed on an \"AS IS\" BASIS,\n",
              "// WITHOUT WARRANTIES OR CONDITIONS OF ANY KIND, either express or implied.\n",
              "// See the License for the specific language governing permissions and\n",
              "// limitations under the License.\n",
              "\n",
              "/**\n",
              " * @fileoverview Helpers for google.colab Python module.\n",
              " */\n",
              "(function(scope) {\n",
              "function span(text, styleAttributes = {}) {\n",
              "  const element = document.createElement('span');\n",
              "  element.textContent = text;\n",
              "  for (const key of Object.keys(styleAttributes)) {\n",
              "    element.style[key] = styleAttributes[key];\n",
              "  }\n",
              "  return element;\n",
              "}\n",
              "\n",
              "// Max number of bytes which will be uploaded at a time.\n",
              "const MAX_PAYLOAD_SIZE = 100 * 1024;\n",
              "\n",
              "function _uploadFiles(inputId, outputId) {\n",
              "  const steps = uploadFilesStep(inputId, outputId);\n",
              "  const outputElement = document.getElementById(outputId);\n",
              "  // Cache steps on the outputElement to make it available for the next call\n",
              "  // to uploadFilesContinue from Python.\n",
              "  outputElement.steps = steps;\n",
              "\n",
              "  return _uploadFilesContinue(outputId);\n",
              "}\n",
              "\n",
              "// This is roughly an async generator (not supported in the browser yet),\n",
              "// where there are multiple asynchronous steps and the Python side is going\n",
              "// to poll for completion of each step.\n",
              "// This uses a Promise to block the python side on completion of each step,\n",
              "// then passes the result of the previous step as the input to the next step.\n",
              "function _uploadFilesContinue(outputId) {\n",
              "  const outputElement = document.getElementById(outputId);\n",
              "  const steps = outputElement.steps;\n",
              "\n",
              "  const next = steps.next(outputElement.lastPromiseValue);\n",
              "  return Promise.resolve(next.value.promise).then((value) => {\n",
              "    // Cache the last promise value to make it available to the next\n",
              "    // step of the generator.\n",
              "    outputElement.lastPromiseValue = value;\n",
              "    return next.value.response;\n",
              "  });\n",
              "}\n",
              "\n",
              "/**\n",
              " * Generator function which is called between each async step of the upload\n",
              " * process.\n",
              " * @param {string} inputId Element ID of the input file picker element.\n",
              " * @param {string} outputId Element ID of the output display.\n",
              " * @return {!Iterable<!Object>} Iterable of next steps.\n",
              " */\n",
              "function* uploadFilesStep(inputId, outputId) {\n",
              "  const inputElement = document.getElementById(inputId);\n",
              "  inputElement.disabled = false;\n",
              "\n",
              "  const outputElement = document.getElementById(outputId);\n",
              "  outputElement.innerHTML = '';\n",
              "\n",
              "  const pickedPromise = new Promise((resolve) => {\n",
              "    inputElement.addEventListener('change', (e) => {\n",
              "      resolve(e.target.files);\n",
              "    });\n",
              "  });\n",
              "\n",
              "  const cancel = document.createElement('button');\n",
              "  inputElement.parentElement.appendChild(cancel);\n",
              "  cancel.textContent = 'Cancel upload';\n",
              "  const cancelPromise = new Promise((resolve) => {\n",
              "    cancel.onclick = () => {\n",
              "      resolve(null);\n",
              "    };\n",
              "  });\n",
              "\n",
              "  // Wait for the user to pick the files.\n",
              "  const files = yield {\n",
              "    promise: Promise.race([pickedPromise, cancelPromise]),\n",
              "    response: {\n",
              "      action: 'starting',\n",
              "    }\n",
              "  };\n",
              "\n",
              "  cancel.remove();\n",
              "\n",
              "  // Disable the input element since further picks are not allowed.\n",
              "  inputElement.disabled = true;\n",
              "\n",
              "  if (!files) {\n",
              "    return {\n",
              "      response: {\n",
              "        action: 'complete',\n",
              "      }\n",
              "    };\n",
              "  }\n",
              "\n",
              "  for (const file of files) {\n",
              "    const li = document.createElement('li');\n",
              "    li.append(span(file.name, {fontWeight: 'bold'}));\n",
              "    li.append(span(\n",
              "        `(${file.type || 'n/a'}) - ${file.size} bytes, ` +\n",
              "        `last modified: ${\n",
              "            file.lastModifiedDate ? file.lastModifiedDate.toLocaleDateString() :\n",
              "                                    'n/a'} - `));\n",
              "    const percent = span('0% done');\n",
              "    li.appendChild(percent);\n",
              "\n",
              "    outputElement.appendChild(li);\n",
              "\n",
              "    const fileDataPromise = new Promise((resolve) => {\n",
              "      const reader = new FileReader();\n",
              "      reader.onload = (e) => {\n",
              "        resolve(e.target.result);\n",
              "      };\n",
              "      reader.readAsArrayBuffer(file);\n",
              "    });\n",
              "    // Wait for the data to be ready.\n",
              "    let fileData = yield {\n",
              "      promise: fileDataPromise,\n",
              "      response: {\n",
              "        action: 'continue',\n",
              "      }\n",
              "    };\n",
              "\n",
              "    // Use a chunked sending to avoid message size limits. See b/62115660.\n",
              "    let position = 0;\n",
              "    do {\n",
              "      const length = Math.min(fileData.byteLength - position, MAX_PAYLOAD_SIZE);\n",
              "      const chunk = new Uint8Array(fileData, position, length);\n",
              "      position += length;\n",
              "\n",
              "      const base64 = btoa(String.fromCharCode.apply(null, chunk));\n",
              "      yield {\n",
              "        response: {\n",
              "          action: 'append',\n",
              "          file: file.name,\n",
              "          data: base64,\n",
              "        },\n",
              "      };\n",
              "\n",
              "      let percentDone = fileData.byteLength === 0 ?\n",
              "          100 :\n",
              "          Math.round((position / fileData.byteLength) * 100);\n",
              "      percent.textContent = `${percentDone}% done`;\n",
              "\n",
              "    } while (position < fileData.byteLength);\n",
              "  }\n",
              "\n",
              "  // All done.\n",
              "  yield {\n",
              "    response: {\n",
              "      action: 'complete',\n",
              "    }\n",
              "  };\n",
              "}\n",
              "\n",
              "scope.google = scope.google || {};\n",
              "scope.google.colab = scope.google.colab || {};\n",
              "scope.google.colab._files = {\n",
              "  _uploadFiles,\n",
              "  _uploadFilesContinue,\n",
              "};\n",
              "})(self);\n",
              "</script> "
            ]
          },
          "metadata": {}
        },
        {
          "output_type": "stream",
          "name": "stdout",
          "text": [
            "Saving spam_or_not_spam.csv to spam_or_not_spam (2).csv\n"
          ]
        }
      ]
    },
    {
      "cell_type": "code",
      "source": [
        "\n",
        "import pandas as pd\n",
        "\n",
        "# Load the uploaded CSV file\n",
        "file_path = \"spam_or_not_spam.csv\"\n",
        "df = pd.read_csv(file_path)\n",
        "\n",
        "# Display the first few rows of the dataset\n",
        "print(df.head())\n"
      ],
      "metadata": {
        "colab": {
          "base_uri": "https://localhost:8080/"
        },
        "id": "H73CLEbWvpbV",
        "outputId": "a803c3f6-2768-409a-8db1-638661c39817"
      },
      "execution_count": 31,
      "outputs": [
        {
          "output_type": "stream",
          "name": "stdout",
          "text": [
            "                                               email  label\n",
            "0   date wed NUMBER aug NUMBER NUMBER NUMBER NUMB...      0\n",
            "1  martin a posted tassos papadopoulos the greek ...      0\n",
            "2  man threatens explosion in moscow thursday aug...      0\n",
            "3  klez the virus that won t die already the most...      0\n",
            "4   in adding cream to spaghetti carbonara which ...      0\n"
          ]
        }
      ]
    },
    {
      "cell_type": "markdown",
      "source": [
        "#Pre-Processing\n"
      ],
      "metadata": {
        "id": "D7IeoZtyrsat"
      }
    },
    {
      "cell_type": "code",
      "source": [
        "\n",
        "# Ensure that all values in the 'email' column are strings\n",
        "df['email'] = df['email'].astype(str)\n",
        "\n",
        "# Remove unnecessary characters\n",
        "df['email'] = df['email'].apply(lambda x: re.sub(r'[^\\w\\s]', '', x))  # Remove punctuation\n",
        "df['email'] = df['email'].apply(lambda x: re.sub(r'\\d+', '', x))  # Remove numbers\n",
        "\n",
        "# Convert to lowercase\n",
        "df['email'] = df['email'].str.lower()\n",
        "\n",
        "\n",
        "# Display the first few rows of the dataset\n",
        "print(df.head())\n"
      ],
      "metadata": {
        "colab": {
          "base_uri": "https://localhost:8080/"
        },
        "id": "tcJ4JdNdvv2Z",
        "outputId": "9db825e3-0567-4079-a0ac-4bf83647043e"
      },
      "execution_count": 32,
      "outputs": [
        {
          "output_type": "stream",
          "name": "stdout",
          "text": [
            "                                               email  label\n",
            "0   date wed number aug number number number numb...      0\n",
            "1  martin a posted tassos papadopoulos the greek ...      0\n",
            "2  man threatens explosion in moscow thursday aug...      0\n",
            "3  klez the virus that won t die already the most...      0\n",
            "4   in adding cream to spaghetti carbonara which ...      0\n"
          ]
        }
      ]
    },
    {
      "cell_type": "code",
      "source": [
        "import nltk\n",
        "nltk.download('punkt_tab')\n",
        "# Tokenize text\n",
        "df['tokens'] = df['email'].apply(word_tokenize)"
      ],
      "metadata": {
        "id": "ZVofM8Bky19B",
        "colab": {
          "base_uri": "https://localhost:8080/"
        },
        "outputId": "639e8bce-f8dc-480a-9403-16329f0f4327"
      },
      "execution_count": 33,
      "outputs": [
        {
          "output_type": "stream",
          "name": "stderr",
          "text": [
            "[nltk_data] Downloading package punkt_tab to /root/nltk_data...\n",
            "[nltk_data]   Package punkt_tab is already up-to-date!\n"
          ]
        }
      ]
    },
    {
      "cell_type": "code",
      "source": [
        "import nltk\n",
        "nltk.download('punkt')\n",
        "nltk.download('stopwords') # Download the stopwords resource\n",
        "\n",
        "# Remove stopwords\n",
        "from nltk.corpus import stopwords\n",
        "# Remove stopwords\n",
        "stop_words = set(stopwords.words('english'))\n",
        "df['tokens'] = df['tokens'].apply(lambda x: [word for word in x if word not in stop_words])"
      ],
      "metadata": {
        "id": "WjD5Xj2Uy7dj",
        "colab": {
          "base_uri": "https://localhost:8080/"
        },
        "outputId": "74b043b7-b05e-4135-ac5a-b7b562ed737a"
      },
      "execution_count": 34,
      "outputs": [
        {
          "output_type": "stream",
          "name": "stderr",
          "text": [
            "[nltk_data] Downloading package punkt to /root/nltk_data...\n",
            "[nltk_data]   Package punkt is already up-to-date!\n",
            "[nltk_data] Downloading package stopwords to /root/nltk_data...\n",
            "[nltk_data]   Package stopwords is already up-to-date!\n"
          ]
        }
      ]
    },
    {
      "cell_type": "code",
      "source": [
        "!pip install nltk\n",
        "import nltk\n",
        "\n",
        "nltk.download('wordnet')"
      ],
      "metadata": {
        "colab": {
          "base_uri": "https://localhost:8080/"
        },
        "id": "xpq4lADWzW9Y",
        "outputId": "5cef8e60-dfec-4c74-b82f-c05601b3510e"
      },
      "execution_count": 35,
      "outputs": [
        {
          "output_type": "stream",
          "name": "stdout",
          "text": [
            "Requirement already satisfied: nltk in /usr/local/lib/python3.10/dist-packages (3.9.1)\n",
            "Requirement already satisfied: click in /usr/local/lib/python3.10/dist-packages (from nltk) (8.1.7)\n",
            "Requirement already satisfied: joblib in /usr/local/lib/python3.10/dist-packages (from nltk) (1.4.2)\n",
            "Requirement already satisfied: regex>=2021.8.3 in /usr/local/lib/python3.10/dist-packages (from nltk) (2024.9.11)\n",
            "Requirement already satisfied: tqdm in /usr/local/lib/python3.10/dist-packages (from nltk) (4.66.6)\n"
          ]
        },
        {
          "output_type": "stream",
          "name": "stderr",
          "text": [
            "[nltk_data] Downloading package wordnet to /root/nltk_data...\n",
            "[nltk_data]   Package wordnet is already up-to-date!\n"
          ]
        },
        {
          "output_type": "execute_result",
          "data": {
            "text/plain": [
              "True"
            ]
          },
          "metadata": {},
          "execution_count": 35
        }
      ]
    },
    {
      "cell_type": "code",
      "source": [
        "# Perform lemmatization\n",
        "lemmatizer = WordNetLemmatizer()\n",
        "df['tokens'] = df['tokens'].apply(lambda x: [lemmatizer.lemmatize(word) for word in x])\n"
      ],
      "metadata": {
        "id": "lHKGEKWqzOjV"
      },
      "execution_count": 36,
      "outputs": []
    },
    {
      "cell_type": "markdown",
      "source": [
        "# Data Balancing\n"
      ],
      "metadata": {
        "id": "lV4yCHQGr4nv"
      }
    },
    {
      "cell_type": "code",
      "source": [
        "# Balance dataset\n",
        "# Separate classes\n",
        "spam = df[df['label'] == 1]\n",
        "non_spam = df[df['label'] == 0]\n"
      ],
      "metadata": {
        "id": "FCXXiv2LzgRc"
      },
      "execution_count": 37,
      "outputs": []
    },
    {
      "cell_type": "code",
      "source": [
        "# Resample to balance\n",
        "if len(spam) > len(non_spam):\n",
        "    spam = resample(spam, replace=False, n_samples=len(non_spam), random_state=42)\n",
        "else:\n",
        "    non_spam = resample(non_spam, replace=False, n_samples=len(spam), random_state=42)\n",
        "\n",
        "df = pd.concat([spam, non_spam])\n"
      ],
      "metadata": {
        "id": "tQIDMxiszoYP"
      },
      "execution_count": 38,
      "outputs": []
    },
    {
      "cell_type": "code",
      "source": [
        "# Combine all tokens into a corpus\n",
        "corpus = df['tokens'].tolist()\n"
      ],
      "metadata": {
        "id": "WDAZC831zsi7"
      },
      "execution_count": 39,
      "outputs": []
    },
    {
      "cell_type": "code",
      "source": [
        "# Build vocabulary\n",
        "vocab = list(set([word for sentence in corpus for word in sentence]))"
      ],
      "metadata": {
        "id": "XUF5Vc46zxxg"
      },
      "execution_count": 40,
      "outputs": []
    },
    {
      "cell_type": "code",
      "source": [
        "# Initialize embeddings\n",
        "embedding_dim = 10\n",
        "word_embeddings = {word: np.random.uniform(-1, 1, embedding_dim) for word in vocab}"
      ],
      "metadata": {
        "id": "jag-Y3ztz4TF"
      },
      "execution_count": 41,
      "outputs": []
    },
    {
      "cell_type": "markdown",
      "source": [
        "# Word2Vec Implementation"
      ],
      "metadata": {
        "id": "3MqnkLCtsw_W"
      }
    },
    {
      "cell_type": "code",
      "source": [
        "\n",
        "# Context window size\n",
        "window_size = 2\n",
        "\n",
        "# Negative sampling function\n",
        "def get_negative_samples(vocab, context, num_samples=5):\n",
        "    negatives = []\n",
        "    while len(negatives) < num_samples:\n",
        "        word = random.choice(vocab)\n",
        "        if word not in context:\n",
        "            negatives.append(word)\n",
        "    return negatives\n"
      ],
      "metadata": {
        "id": "8tsgECGdz_HJ"
      },
      "execution_count": 42,
      "outputs": []
    },
    {
      "cell_type": "markdown",
      "source": [
        "#Model"
      ],
      "metadata": {
        "id": "xNgj5FX-sj3y"
      }
    },
    {
      "cell_type": "code",
      "source": [
        "\n",
        "# Logistic regression with negative sampling\n",
        "learning_rate = 0.01\n",
        "epochs = 10\n",
        "\n",
        "for epoch in range(epochs):\n",
        "    total_loss = 0\n",
        "    for sentence in corpus:\n",
        "        for i, target in enumerate(sentence):\n",
        "            # Get context words\n",
        "            start = max(0, i - window_size)\n",
        "            end = min(len(sentence), i + window_size + 1)\n",
        "            context = sentence[start:i] + sentence[i+1:end]\n",
        "\n",
        "            # Negative samples\n",
        "            negative_samples = get_negative_samples(vocab, context)\n",
        "\n",
        "            # Training on context words\n",
        "            for context_word in context:\n",
        "                # Positive sample\n",
        "                pos_score = np.dot(word_embeddings[target], word_embeddings[context_word])\n",
        "                pos_prob = 1 / (1 + np.exp(-pos_score))  # Sigmoid\n",
        "                pos_loss = -np.log(pos_prob)\n",
        "                total_loss += pos_loss\n",
        "\n",
        "                # Gradient update for positive pair\n",
        "                grad = (1 - pos_prob) * word_embeddings[context_word]\n",
        "                word_embeddings[target] += learning_rate * grad\n",
        "                word_embeddings[context_word] += learning_rate * (1 - pos_prob) * word_embeddings[target]\n",
        "\n",
        "            # Training on negative samples\n",
        "            for negative_word in negative_samples:\n",
        "                neg_score = np.dot(word_embeddings[target], word_embeddings[negative_word])\n",
        "                neg_prob = 1 / (1 + np.exp(-neg_score))  # Sigmoid\n",
        "                neg_loss = -np.log(1 - neg_prob)\n",
        "                total_loss += neg_loss\n",
        "\n",
        "                # Gradient update for negative pair\n",
        "                grad = -neg_prob * word_embeddings[negative_word]\n",
        "                word_embeddings[target] += learning_rate * grad\n",
        "                word_embeddings[negative_word] += learning_rate * (-neg_prob) * word_embeddings[target]\n",
        "\n",
        "    print(f\"Epoch {epoch + 1}/{epochs}, Loss: {total_loss:.4f}\")\n",
        "\n",
        "\n",
        "\n",
        "# Save trained embeddings\n",
        "trained_embeddings = {word: word_embeddings[word] for word in vocab}\n",
        "\n",
        "\n",
        "\n",
        "\n",
        "# Display sample embeddings\n",
        "print(\"\\nSample Word Embeddings:\")\n",
        "for word, emb in list(trained_embeddings.items())[:5]:\n",
        "    print(f\"Word: {word}, Embedding: {emb}\")\n"
      ],
      "metadata": {
        "colab": {
          "base_uri": "https://localhost:8080/"
        },
        "id": "Ou3TMoc70HwR",
        "outputId": "9e4d76c1-96a9-450f-a842-fcdbabb941b9"
      },
      "execution_count": 43,
      "outputs": [
        {
          "output_type": "stream",
          "name": "stdout",
          "text": [
            "Epoch 1/10, Loss: 1024886.8541\n",
            "Epoch 2/10, Loss: 902504.3959\n",
            "Epoch 3/10, Loss: 832643.3766\n",
            "Epoch 4/10, Loss: 784734.7448\n",
            "Epoch 5/10, Loss: 752118.1720\n",
            "Epoch 6/10, Loss: 728173.4481\n",
            "Epoch 7/10, Loss: 713520.4516\n",
            "Epoch 8/10, Loss: 702075.1264\n",
            "Epoch 9/10, Loss: 694746.1105\n",
            "Epoch 10/10, Loss: 686922.5365\n",
            "\n",
            "Sample Word Embeddings:\n",
            "Word: homophobe, Embedding: [ 0.64560227 -0.94316834 -0.59094675 -0.61847938 -1.22804963  0.86028369\n",
            "  0.10127898  0.44117309 -0.76899321  0.14096299]\n",
            "Word: 第四大, Embedding: [-0.63106298 -0.32443829  0.56956796  0.28791961 -0.05229969 -0.21771024\n",
            "  0.43186083  0.07410486  0.07788202 -1.1383926 ]\n",
            "Word: yielding, Embedding: [-0.52280221  0.1312869   1.00816523 -0.173212    0.29566009 -0.1617118\n",
            "  0.95786887  0.1978622  -0.56749886  0.13498606]\n",
            "Word: wdijvlnsjnbnnumberohnumberenumberwnumberytjisxnumberovxsqbnumberssgvthxrrgnumbervnumberrzphhgohyfnumberpoc, Embedding: [-0.49350728  0.03526566  0.87238567 -1.12360528 -0.05495925  0.82427352\n",
            " -0.18582713 -0.58358887  0.4903222  -0.14016808]\n",
            "Word: alinoe, Embedding: [-0.00841503 -0.76386293  0.87993913 -0.89356987 -0.57133381 -0.56896408\n",
            " -0.27586218 -0.77084738 -0.02652262  0.05791238]\n"
          ]
        }
      ]
    },
    {
      "cell_type": "markdown",
      "source": [
        "# Saving Embeddings\n"
      ],
      "metadata": {
        "id": "OiUDe-g4sMfO"
      }
    },
    {
      "cell_type": "code",
      "source": [
        "import pickle\n",
        "\n",
        "# Save the trained embeddings to a pickle file\n",
        "with open('trained_embeddings.pkl', 'wb') as file:\n",
        "    pickle.dump(trained_embeddings, file)\n",
        "\n",
        "print(\"Embeddings saved successfully.\")"
      ],
      "metadata": {
        "colab": {
          "base_uri": "https://localhost:8080/"
        },
        "id": "8IuM9xt80JL4",
        "outputId": "c6291645-d76b-4664-985d-725743be8564"
      },
      "execution_count": 44,
      "outputs": [
        {
          "output_type": "stream",
          "name": "stdout",
          "text": [
            "Embeddings saved successfully.\n"
          ]
        }
      ]
    },
    {
      "cell_type": "code",
      "source": [
        "from google.colab import files\n",
        "\n",
        "# Save the file\n",
        "with open('trained_embeddings.pkl', 'wb') as file:\n",
        "    pickle.dump(trained_embeddings, file)\n",
        "\n",
        "# Download the file to your local machine\n",
        "files.download('trained_embeddings.pkl')\n",
        "\n"
      ],
      "metadata": {
        "colab": {
          "base_uri": "https://localhost:8080/",
          "height": 17
        },
        "id": "8GhVrnNy9Qwt",
        "outputId": "af959df3-fb9a-4c98-eb68-f9351e64f7b9"
      },
      "execution_count": 47,
      "outputs": [
        {
          "output_type": "display_data",
          "data": {
            "text/plain": [
              "<IPython.core.display.Javascript object>"
            ],
            "application/javascript": [
              "\n",
              "    async function download(id, filename, size) {\n",
              "      if (!google.colab.kernel.accessAllowed) {\n",
              "        return;\n",
              "      }\n",
              "      const div = document.createElement('div');\n",
              "      const label = document.createElement('label');\n",
              "      label.textContent = `Downloading \"${filename}\": `;\n",
              "      div.appendChild(label);\n",
              "      const progress = document.createElement('progress');\n",
              "      progress.max = size;\n",
              "      div.appendChild(progress);\n",
              "      document.body.appendChild(div);\n",
              "\n",
              "      const buffers = [];\n",
              "      let downloaded = 0;\n",
              "\n",
              "      const channel = await google.colab.kernel.comms.open(id);\n",
              "      // Send a message to notify the kernel that we're ready.\n",
              "      channel.send({})\n",
              "\n",
              "      for await (const message of channel.messages) {\n",
              "        // Send a message to notify the kernel that we're ready.\n",
              "        channel.send({})\n",
              "        if (message.buffers) {\n",
              "          for (const buffer of message.buffers) {\n",
              "            buffers.push(buffer);\n",
              "            downloaded += buffer.byteLength;\n",
              "            progress.value = downloaded;\n",
              "          }\n",
              "        }\n",
              "      }\n",
              "      const blob = new Blob(buffers, {type: 'application/binary'});\n",
              "      const a = document.createElement('a');\n",
              "      a.href = window.URL.createObjectURL(blob);\n",
              "      a.download = filename;\n",
              "      div.appendChild(a);\n",
              "      a.click();\n",
              "      div.remove();\n",
              "    }\n",
              "  "
            ]
          },
          "metadata": {}
        },
        {
          "output_type": "display_data",
          "data": {
            "text/plain": [
              "<IPython.core.display.Javascript object>"
            ],
            "application/javascript": [
              "download(\"download_4bbff6a9-4ff0-4e3d-954b-f219c2c149f6\", \"trained_embeddings.pkl\", 2637103)"
            ]
          },
          "metadata": {}
        }
      ]
    }
  ]
}