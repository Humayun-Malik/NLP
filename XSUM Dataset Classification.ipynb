{
  "nbformat": 4,
  "nbformat_minor": 0,
  "metadata": {
    "colab": {
      "provenance": []
    },
    "kernelspec": {
      "name": "python3",
      "display_name": "Python 3"
    },
    "language_info": {
      "name": "python"
    }
  },
  "cells": [
    {
      "cell_type": "markdown",
      "source": [
        "# **Humayun Malik**   **(21I-2562)**\n",
        "#Section : D\n",
        "#Assignment 2\n",
        "\n",
        "\n"
      ],
      "metadata": {
        "id": "R7icPnXnidLF"
      }
    },
    {
      "cell_type": "code",
      "execution_count": null,
      "metadata": {
        "colab": {
          "base_uri": "https://localhost:8080/"
        },
        "id": "KVDh29__go5d",
        "outputId": "aa1772c0-4f26-468d-f331-62ccfdf0688c"
      },
      "outputs": [
        {
          "output_type": "stream",
          "name": "stderr",
          "text": [
            "[nltk_data] Downloading package punkt to /root/nltk_data...\n",
            "[nltk_data]   Package punkt is already up-to-date!\n"
          ]
        }
      ],
      "source": [
        "import pandas as pd\n",
        "import string\n",
        "import re\n",
        "import nltk\n",
        "from nltk.tokenize import sent_tokenize, word_tokenize\n",
        "nltk.download('punkt')\n",
        "import numpy as np\n",
        "import math\n",
        "import random\n",
        "from sklearn.model_selection import KFold\n",
        "import matplotlib.pyplot as plt\n",
        "import seaborn as sns\n",
        "from sklearn.metrics import confusion_matrix\n"
      ]
    },
    {
      "cell_type": "markdown",
      "source": [
        "#Load Data"
      ],
      "metadata": {
        "id": "M9Mu1bY_j_8C"
      }
    },
    {
      "cell_type": "code",
      "source": [
        "\n",
        "# Load the dataset from a URL\n",
        "url = \"https://github.com/google-research-datasets/xsum_hallucination_annotations/raw/master/factuality_annotations_xsum_summaries.csv\"\n",
        "df = pd.read_csv(url)\n"
      ],
      "metadata": {
        "id": "PAWHeJPSj_W4"
      },
      "execution_count": null,
      "outputs": []
    },
    {
      "cell_type": "markdown",
      "source": [
        "# Pre-Processing"
      ],
      "metadata": {
        "id": "yDtT52z4ib90"
      }
    },
    {
      "cell_type": "code",
      "source": [
        "# Keep only the necessary columns: 'summary' and 'is_factual'\n",
        "df = df[['summary', 'is_factual']]\n",
        "\n",
        "# Remove duplicate summaries to avoid biased results\n",
        "df = df.drop_duplicates(subset=['summary'])\n",
        "\n",
        "# Convert the 'is_factual' column to binary labels\n",
        "df['label'] = df['is_factual'].apply(lambda x: 1 if x == 'no' else 0)\n",
        "\n",
        "# Preprocess the text data by converting to lowercase and removing non-alphabetic characters\n",
        "df['summary'] = df['summary'].str.lower().str.replace('[^a-z\\s]', '', regex=True)\n",
        "\n",
        "# Display the first few rows of the dataset to verify preprocessing\n",
        "print(df.head())"
      ],
      "metadata": {
        "colab": {
          "base_uri": "https://localhost:8080/"
        },
        "id": "qRx0mEu4kbiq",
        "outputId": "78936db7-4288-45b1-9704-e7a55f6f8f12"
      },
      "execution_count": null,
      "outputs": [
        {
          "output_type": "stream",
          "name": "stdout",
          "text": [
            "                                              summary is_factual  label\n",
            "0   more than  pupils at a bristol academy have be...         no      1\n",
            "3   the wife of a britishiranian woman jailed in i...         no      1\n",
            "6   police searching for a greenock woman who has ...         no      1\n",
            "9   aberdeen have appointed arbroath boss paul she...        yes      0\n",
            "12  a sixyearold girl from cheshire who was given ...         no      1\n"
          ]
        }
      ]
    },
    {
      "cell_type": "markdown",
      "source": [
        "# Bag Of Words Approach"
      ],
      "metadata": {
        "id": "l2RhP367lrK8"
      }
    },
    {
      "cell_type": "code",
      "source": [
        "\n",
        "\n",
        "# Tokenize each summary and collect unique tokens to build a vocabulary\n",
        "unique_tokens = set()\n",
        "for summary in df['summary']:\n",
        "    tokens = word_tokenize(summary)  # Tokenize the summary text\n",
        "    unique_tokens.update(tokens)     # Add tokens to the set\n",
        "\n",
        "# Display a sample of the unique tokens collected\n",
        "print(f\"Unique tokens (sample): {list(unique_tokens)[:20]}\")\n",
        "\n",
        "# Assign a unique index to each unique token (word-to-index mapping)\n",
        "token_to_index = {token: idx for idx, token in enumerate(unique_tokens)}\n",
        "\n",
        "# Initialize the Bag of Words (BoW) matrix with zeros\n",
        "bow_matrix = np.zeros((df.shape[0], len(token_to_index)))\n",
        "\n",
        "# Fill the BoW matrix with word counts for each summary\n",
        "for i, summary in enumerate(df['summary']):\n",
        "    tokens = word_tokenize(summary)  # Tokenize each summary\n",
        "    for token in tokens:\n",
        "        if token in token_to_index:  # Only consider tokens in the vocabulary\n",
        "            bow_matrix[i, token_to_index[token]] += 1  # Increment count for each token\n",
        "\n",
        "# Convert the matrix to a DataFrame for better readability\n",
        "bow_df = pd.DataFrame(bow_matrix, columns=token_to_index.keys())\n"
      ],
      "metadata": {
        "colab": {
          "base_uri": "https://localhost:8080/"
        },
        "id": "UscJUWW2lgH3",
        "outputId": "8d1a72e6-f746-40d3-b732-e9d7c47af5df"
      },
      "execution_count": null,
      "outputs": [
        {
          "output_type": "stream",
          "name": "stdout",
          "text": [
            "Unique tokens (sample): ['nebraska', 'reaction', 'al', 'yorkshires', 'shopping', 'calcutta', 'confederation', 'clyde', 'southgate', 'stevenages', 'standoff', 'statesays', 'truly', 'handset', 'jihadist', 'reports', 'auction', 'protecting', 'unveiled', 'londonderry']\n"
          ]
        }
      ]
    },
    {
      "cell_type": "markdown",
      "source": [
        "# Regression Model"
      ],
      "metadata": {
        "id": "SqVrtL0Ol4zm"
      }
    },
    {
      "cell_type": "code",
      "source": [
        "\n",
        "# Prepare input data (X) as the Bag of Words matrix\n",
        "X = bow_matrix\n",
        "\n",
        "# Prepare the labels (Y) using the binary label column\n",
        "Y = df['label'].values\n",
        "\n",
        "# Split the data into training (80%) and testing sets (20%)\n",
        "split = int(0.8 * len(X))\n",
        "X_train, X_test = X[:split], X[split:]\n",
        "Y_train, Y_test = Y[:split], Y[split:]\n",
        "\n",
        "# Define the logistic regression class\n",
        "class LogisticRegression:\n",
        "    def __init__(self, learning_rate=0.01, epochs=500):\n",
        "        self.learning_rate = learning_rate\n",
        "        self.epochs = epochs\n",
        "        self.weights = None\n",
        "        self.bias = None\n",
        "\n",
        "    def sigmoid(self, z):\n",
        "        \"\"\"Sigmoid function to map input to a probability.\"\"\"\n",
        "        return 1 / (1 + np.exp(-z))\n",
        "\n",
        "    def fit(self, X_train, Y_train):\n",
        "        \"\"\"Train the logistic regression model.\"\"\"\n",
        "        num_features = X_train.shape[1]  # Number of features (tokens)\n",
        "        self.weights = np.random.uniform(-0.1, 0.1, num_features)  # Initialize weights\n",
        "        self.bias = 0  # Initialize bias\n",
        "\n",
        "        # Train using gradient descent over the specified number of epochs\n",
        "        for epoch in range(self.epochs):\n",
        "            for i in range(len(X_train)):\n",
        "                linear_output = np.dot(X_train[i], self.weights) + self.bias  # Compute linear combination\n",
        "                prediction = self.sigmoid(linear_output)  # Apply sigmoid to get probability\n",
        "                error = prediction - Y_train[i]  # Calculate the error\n",
        "\n",
        "                # Update weights and bias using the gradient descent rule\n",
        "                self.weights -= self.learning_rate * error * X_train[i]\n",
        "                self.bias -= self.learning_rate * error\n",
        "\n",
        "    def predict(self, X_test):\n",
        "        \"\"\"Make predictions using the trained model.\"\"\"\n",
        "        predictions = []\n",
        "        for x in X_test:\n",
        "            linear_output = np.dot(x, self.weights) + self.bias  # Compute linear output\n",
        "            prob = self.sigmoid(linear_output)  # Apply sigmoid to get probability\n",
        "            predictions.append(1 if prob >= 0.5 else 0)  # Classify based on the threshold 0.5\n",
        "        return predictions\n",
        "\n",
        "# Initialize and train the logistic regression model\n",
        "log_reg = LogisticRegression(learning_rate=0.01, epochs=500)\n",
        "log_reg.fit(X_train, Y_train)\n",
        "\n",
        "# Make predictions on the test set\n",
        "Y_pred = log_reg.predict(X_test)"
      ],
      "metadata": {
        "id": "4O_ba2wVmjFu"
      },
      "execution_count": null,
      "outputs": []
    },
    {
      "cell_type": "markdown",
      "source": [
        "# Evaluation"
      ],
      "metadata": {
        "id": "KXs0Fd-mmmse"
      }
    },
    {
      "cell_type": "code",
      "source": [
        "\n",
        "# Calculate the confusion matrix (TP, TN, FP, FN)\n",
        "TP = FP = TN = FN = 0\n",
        "for true, pred in zip(Y_test, Y_pred):\n",
        "    if true == 1 and pred == 1:\n",
        "        TP += 1  # True Positive\n",
        "    elif true == 0 and pred == 0:\n",
        "        TN += 1  # True Negative\n",
        "    elif true == 0 and pred == 1:\n",
        "        FP += 1  # False Positive\n",
        "    elif true == 1 and pred == 0:\n",
        "        FN += 1  # False Negative\n",
        "\n",
        "# Calculate evaluation metrics: accuracy, precision, recall, and F1 score\n",
        "accuracy = (TP + TN) / (TP + TN + FP + FN)\n",
        "precision = TP / (TP + FP) if (TP + FP) > 0 else 0.0\n",
        "recall = TP / (TP + FN) if (TP + FN) > 0 else 0.0\n",
        "f1 = (2 * precision * recall) / (precision + recall) if (precision + recall) > 0 else 0.0\n",
        "\n",
        "# Print the evaluation results\n",
        "print(f\"Accuracy: {accuracy:.4f}\")\n",
        "print(f\"Precision: {precision:.4f}\")\n",
        "print(f\"Recall: {recall:.4f}\")\n",
        "print(f\"F1 Score: {f1:.4f}\")\n",
        "\n",
        "# Print confusion matrix details\n",
        "print(f\"TP: {TP}, FP: {FP}\")\n",
        "print(f\"FN: {FN}, TN: {TN}\")\n",
        "\n",
        "# Plot the confusion matrix using a heatmap\n",
        "confusion_matrix = np.array([[TP, FP], [FN, TN]])\n",
        "plt.figure(figsize=(8, 6))\n",
        "sns.heatmap(confusion_matrix, annot=True, fmt='d', cmap='Greens', xticklabels=['Positive', 'Negative'], yticklabels=['Positive', 'Negative'])\n",
        "plt.title('Confusion Matrix')\n",
        "plt.ylabel('True Label')\n",
        "plt.xlabel('Predicted Label')\n",
        "plt.show()\n"
      ],
      "metadata": {
        "colab": {
          "base_uri": "https://localhost:8080/",
          "height": 668
        },
        "id": "qj_-tcjInEdp",
        "outputId": "a8f84434-8510-434d-ec6b-1fa5506fa44d"
      },
      "execution_count": null,
      "outputs": [
        {
          "output_type": "stream",
          "name": "stdout",
          "text": [
            "Accuracy: 0.9223\n",
            "Precision: 0.9525\n",
            "Recall: 0.9660\n",
            "F1 Score: 0.9592\n",
            "TP: 341, FP: 17\n",
            "FN: 12, TN: 3\n"
          ]
        },
        {
          "output_type": "display_data",
          "data": {
            "text/plain": [
              "<Figure size 800x600 with 2 Axes>"
            ],
            "image/png": "[encoded data removed]"
          },
          "metadata": {}
        }
      ]
    },
    {
      "cell_type": "markdown",
      "source": [
        "# K-Fold Validation\n"
      ],
      "metadata": {
        "id": "75lkPe4TnLRR"
      }
    },
    {
      "cell_type": "code",
      "source": [
        "# K-fold cross-validation implementation with plotting\n",
        "k = 5  # Number of folds\n",
        "kf = KFold(n_splits=k, shuffle=True)  # Initialize KFold with shuffling\n",
        "accuracies = []  # List to store accuracies for each fold\n",
        "\n",
        "# Print message for cross-validation results\n",
        "print(\"K-Fold Cross-Validation Results:\")\n",
        "\n",
        "# Iterate over each fold\n",
        "for fold, (train_index, test_index) in enumerate(kf.split(X), start=1):\n",
        "    # Split data into training and testing sets for the current fold\n",
        "    X_train, X_test = X[train_index], X[test_index]\n",
        "    Y_train, Y_test = Y[train_index], Y[test_index]\n",
        "\n",
        "    # Initialize the logistic regression model\n",
        "    model = LogisticRegression(learning_rate=0.01, epochs=500)\n",
        "\n",
        "    # Train the model on the current training set\n",
        "    model.fit(X_train, Y_train)\n",
        "\n",
        "    # Make predictions on the current test set\n",
        "    Y_pred = model.predict(X_test)\n",
        "\n",
        "    # Calculate accuracy for this fold\n",
        "    TP = FP = TN = FN = 0  # Initialize confusion matrix values\n",
        "    for true, pred in zip(Y_test, Y_pred):\n",
        "        if true == 1 and pred == 1:\n",
        "            TP += 1  # True Positive\n",
        "        elif true == 0 and pred == 0:\n",
        "            TN += 1  # True Negative\n",
        "        elif true == 0 and pred == 1:\n",
        "            FP += 1  # False Positive\n",
        "        elif true == 1 and pred == 0:\n",
        "            FN += 1  # False Negative\n",
        "\n",
        "    # Compute accuracy\n",
        "    accuracy = (TP + TN) / (TP + TN + FP + FN)\n",
        "    accuracies.append(accuracy)  # Store accuracy for this fold\n",
        "\n",
        "    # Print accuracy for the current fold\n",
        "    print(f\"Fold {fold} Accuracy: {accuracy:.4f}\")\n",
        "\n",
        "# Calculate the average accuracy and standard deviation\n",
        "average_accuracy = np.mean(accuracies)\n",
        "std_deviation_accuracy = np.std(accuracies)\n",
        "\n",
        "# Report the results\n",
        "print(f\"\\nAverage Accuracy: {average_accuracy:.4f}\")\n",
        "print(f\"Standard Deviation of Accuracy: {std_deviation_accuracy:.4f}\")\n",
        "\n",
        "# Plot the accuracies across folds\n",
        "plt.figure(figsize=(8, 6))\n",
        "plt.plot(range(1, k+1), accuracies, marker='o', linestyle='-', color='b', label='Accuracy per fold')\n",
        "plt.axhline(average_accuracy, color='r', linestyle='--', label=f'Average Accuracy: {average_accuracy:.4f}')\n",
        "plt.fill_between(range(1, k+1),\n",
        "                 average_accuracy - std_deviation_accuracy,\n",
        "                 average_accuracy + std_deviation_accuracy,\n",
        "                 color='r', alpha=0.1, label=f'Std Dev: ±{std_deviation_accuracy:.4f}')\n",
        "plt.title('K-Fold Cross-Validation Results')\n",
        "plt.xlabel('Fold')\n",
        "plt.ylabel('Accuracy')\n",
        "plt.xticks(range(1, k+1))\n",
        "plt.ylim(0.7, 1)\n",
        "plt.legend()\n",
        "plt.grid(True)\n",
        "plt.show()\n"
      ],
      "metadata": {
        "colab": {
          "base_uri": "https://localhost:8080/",
          "height": 720
        },
        "id": "5WqjyB2oiYEp",
        "outputId": "13568bc9-7f41-4a91-acac-d61036db1601"
      },
      "execution_count": null,
      "outputs": [
        {
          "output_type": "stream",
          "name": "stdout",
          "text": [
            "K-Fold Cross-Validation Results:\n",
            "Fold 1 Accuracy: 0.8525\n",
            "Fold 2 Accuracy: 0.8847\n",
            "Fold 3 Accuracy: 0.8871\n",
            "Fold 4 Accuracy: 0.8602\n",
            "Fold 5 Accuracy: 0.8871\n",
            "\n",
            "Average Accuracy: 0.8743\n",
            "Standard Deviation of Accuracy: 0.0149\n"
          ]
        },
        {
          "output_type": "display_data",
          "data": {
            "text/plain": [
              "<Figure size 800x600 with 1 Axes>"
            ],
            "image/png": "[encoded data removed]"
          },
          "metadata": {}
        }
      ]
    },
    {
      "cell_type": "markdown",
      "source": [
        "# Error Analysis\n"
      ],
      "metadata": {
        "id": "wrHlYekIujYA"
      }
    },
    {
      "cell_type": "code",
      "source": [
        "# Identify misclassified examples\n",
        "misclassified_indices = [i for i in range(len(Y_test)) if Y_test[i] != Y_pred[i]]\n",
        "misclassified_samples = X_test[misclassified_indices]\n",
        "\n",
        "print(\"Misclassified examples:\")\n",
        "for i, index in enumerate(misclassified_indices):\n",
        "    print(f\"Example {i + 1}: {df['summary'].iloc[index]}\")"
      ],
      "metadata": {
        "colab": {
          "base_uri": "https://localhost:8080/"
        },
        "id": "hULtDAAauvJb",
        "outputId": "e30f84dd-cfc5-4a7a-8660-dc604d60ff67"
      },
      "execution_count": null,
      "outputs": [
        {
          "output_type": "stream",
          "name": "stdout",
          "text": [
            "Misclassified examples:\n",
            "Example 1: a sixyearold girl from cheshire who was given a rare form of leukaemia by her parents has had a lifechanging trial in\n",
            "Example 2: one in five parents in england eat vegetables at home a survey suggests\n",
            "Example 3: police in southern china have seized more than   alcohol bottles and seized more than   bottles of contaminated milk local media report\n",
            "Example 4: russias lower house of parliament has approved a bill that would allow russia to issue new passports to its citizens\n",
            "Example 5: the confederation of african football  caf  and morocco have returned to the competition after a row in the confederation of african football broke down\n",
            "Example 6: rory mcilroy will take a oneshot lead into the final round of the wgchsbc champions after carding a threeunder\n",
            "Example 7: fortyeight people are feared dead after a passenger ferry caught fire off the coast of spain\n",
            "Example 8: shale gas drilling in lancashire has been suspended after a magnitude  earthquake struck\n",
            "Example 9: scotlands laura muir is to miss the commonwealth games in london next month because she is missing the commonwealth games\n",
            "Example 10: the new campus of scotlands largest education campus is to be renamed in honour of author william mcilvanney\n",
            "Example 11: a former guantanamo bay detainee has been released from kuwait\n",
            "Example 12: a humpback whale has gone missing off the coast of australia\n",
            "Example 13: the former captain of the county antrim football team has appeared in court charged with stealing more than  \n",
            "Example 14:  close  the pound fell against the dollar on monday as investors remained cautious ahead of the uks eu referendum vote\n",
            "Example 15: ukip leader ched evans has ruled herself out of the race to become the partys next leader\n",
            "Example 16: the international monetary fund  imf  has warned that the global economy may be at risk of falling global growth\n",
            "Example 17: south sudan is facing an international threat of genocide\n",
            "Example 18: the owners of a recycling plant destroyed by fire in greater manchester have been stripped of their environmental permit\n",
            "Example 19: torquay united have signed barrows myles keating and barrows ruairi keating on loan until january\n",
            "Example 20: britains andy murray fought back from a set down to beat italys fabio fognini and reach the last eight at wimbledon\n",
            "Example 21: mae r pleidleisio yng nghymru wedi cadarnhau eu bod yng nghymru y\n",
            "Example 22: a farmer who built a mocktudor castle without planning permission has failed to demolish his mocktudor castle\n",
            "Example 23: alexis sanchez was sent off in the first half as arsenal beat man hull to reach the premier league playoff final\n",
            "Example 24: mark brand says hes being sued by the sun for  hypocrisy  over his comments about the sun\n",
            "Example 25: swansea citys new manager alan curtis says it would be difficult to get back into the premier league\n",
            "Example 26: archaeologists have identified the ancient stone pyramids in the amazon rainforest\n",
            "Example 27: number eight billy vunipola is expected to be fit for englands opening six nations match against italy at twickenham on saturday\n",
            "Example 28: us president barack obama has called an international inquiry into the taliban attack on an afghan hospital that killed at least  people\n",
            "Example 29: englands inningsandrun defeat by pakistan in the third test was  one of the greatest in the history  says former\n",
            "Example 30: the mother of one of two men murdered by the toddler james bulger has said she will not give up on the case\n",
            "Example 31: league one side colchester united have signed coventry city goalkeeper gordon reid on a seasonlong loan deal\n",
            "Example 32: world number two novak djokovic has been knocked out of the olympic mens doubles in the final in rio\n",
            "Example 33: celebrity celebrity reality tv star peter wright is set to take over from celebrity reality tv star timericayericay town\n",
            "Example 34: at least  people have been arrested in morocco after fans clashed with supporters of the moroccan club raja fmrff on saturday police say\n",
            "Example 35: singapores government has said it is  very concerned  about the environmental damage caused by the forest fires in south east asia\n",
            "Example 36: documents released by the us government have revealed details of spooks and surveillance operations by the us national security agency  prism \n",
            "Example 37: a radar survey has been carried out of the worlds tallest obelisk to see if it has been damaged by lightning\n",
            "Example 38: chelsea boss mauricio pochettino says his side need to be ready to challenge for the premier league title after a  draw at tottenham\n",
            "Example 39: the stars of avengers avengers the force awakens were the biggest winners at this years avengers awards\n",
            "Example 40: ben parkinsons family say they have been  overwhelmed  by the number of people who have received a facebook list for his support following the olympic torch\n",
            "Example 41: neymar cole one of the first ebola victims in africa has been born in sierra leone\n",
            "Example 42: a huge billboard in a county londonderry park has been marked by a huge crowd of people\n"
          ]
        }
      ]
    },
    {
      "cell_type": "markdown",
      "source": [
        "# Analysis of Misclassifications in Hallucination Detection\n",
        "## Overview\n",
        "The misclassifications in the hallucination detection classifier reveal specific challenges in distinguishing factual statements from those containing hallucinations or speculative content.\n",
        "\n",
        "###Common Patterns of Misclassification\n",
        "\n",
        "*  **Ambiguity and Incomplete Information:** Sentences exhibit vague phrasing or missing context, leading to confusion in classification.\n",
        "*   **Speculative Language:** Statements predicting future outcomes may appear factual but often contain elements of speculation that mislead the model.\n",
        "* **Repetition and Redundancy:** Examples with redundant phrases complicate interpretation and may skew classification results.\n",
        "* **Complex Sentence Structures:** Longer sentences or those with multiple clauses can obscure the main point leading to misclassification.\n",
        "* **Contextual and Domain-Specific Challenges:** Some examples may contain jargon or nuances that confuse the model.\n",
        "\n",
        "### Suggested Improvements\n",
        "* **Data Quality Enhancement:** Clean the training dataset by removing incomplete sentences and reducing redundancy, ensuring clear and concise examples.\n",
        "* **Feature Enrichment:** Incorporate additional linguistic features that capture verb tense, modality, and sentence structure to improve contextual understanding.\n",
        "* **Diverse Training Data:** Broaden the dataset to encompass a wider range of topics and styles, helping the model learn to distinguish between factual and non-factual statements.\n",
        "* **Focused Error Analysis:** Develop a structured error analysis process to categorize and understand misclassifications, allowing for targeted interventions.\n",
        "* **Post-Processing Techniques:** Implement checks for ambiguity or contradictions in predicted classifications to improve reliability and accuracy.\n",
        "\n",
        "## Conclusion\n",
        "The analysis indicates that while the hallucination detection classifier demonstrates promise, refining data quality, enhancing feature extraction, and expanding the training dataset are crucial for improving its performance. Continuous evaluation and targeted improvements based on misclassification patterns will enhance the model's accuracy in distinguishing factual content from hallucinations."
      ],
      "metadata": {
        "id": "1itiIuwZxGtV"
      }
    }
  ]
}